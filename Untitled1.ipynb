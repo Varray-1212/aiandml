{
  "nbformat": 4,
  "nbformat_minor": 0,
  "metadata": {
    "colab": {
      "name": "Untitled1.ipynb",
      "provenance": [],
      "collapsed_sections": [],
      "authorship_tag": "ABX9TyNQfNfwk+QVSl938OIWO2Yl",
      "include_colab_link": true
    },
    "kernelspec": {
      "name": "python3",
      "display_name": "Python 3"
    }
  },
  "cells": [
    {
      "cell_type": "markdown",
      "metadata": {
        "id": "view-in-github",
        "colab_type": "text"
      },
      "source": [
        "<a href=\"https://colab.research.google.com/github/Varray-1212/aiandml/blob/master/Untitled1.ipynb\" target=\"_parent\"><img src=\"https://colab.research.google.com/assets/colab-badge.svg\" alt=\"Open In Colab\"/></a>"
      ]
    },
    {
      "cell_type": "code",
      "metadata": {
        "id": "I7CAnyFoQCU4",
        "colab_type": "code",
        "colab": {
          "base_uri": "https://localhost:8080/",
          "height": 121
        },
        "outputId": "906198d7-c32a-4df9-d33e-6ca0fc7dc3fa"
      },
      "source": [
        "a=int(input('enter the value'))\n",
        "i=1\n",
        "while i<=a:\n",
        "  j=1\n",
        "  while j<=i:\n",
        "    print(\"*\",end=\"\")\n",
        "    j=j+1\n",
        "  print(\"\\t\")\n",
        "  i=i+1"
      ],
      "execution_count": 31,
      "outputs": [
        {
          "output_type": "stream",
          "text": [
            "enter the value5\n",
            "*\t\n",
            "**\t\n",
            "***\t\n",
            "****\t\n",
            "*****\t\n"
          ],
          "name": "stdout"
        }
      ]
    }
  ]
}