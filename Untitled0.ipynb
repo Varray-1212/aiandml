{
  "nbformat": 4,
  "nbformat_minor": 0,
  "metadata": {
    "colab": {
      "name": "Untitled0.ipynb",
      "provenance": [],
      "collapsed_sections": [],
      "authorship_tag": "ABX9TyPr+irHvULq/d4UBwaQDS1v",
      "include_colab_link": true
    },
    "kernelspec": {
      "name": "python3",
      "display_name": "Python 3"
    }
  },
  "cells": [
    {
      "cell_type": "markdown",
      "metadata": {
        "id": "view-in-github",
        "colab_type": "text"
      },
      "source": [
        "<a href=\"https://colab.research.google.com/github/Varray-1212/aiandml/blob/master/Untitled0.ipynb\" target=\"_parent\"><img src=\"https://colab.research.google.com/assets/colab-badge.svg\" alt=\"Open In Colab\"/></a>"
      ]
    },
    {
      "cell_type": "code",
      "metadata": {
        "id": "Mgg6JTxl1aEq",
        "colab_type": "code",
        "outputId": "c824d6a7-1702-4e00-e213-9638c6fe63b9",
        "colab": {
          "base_uri": "https://localhost:8080/",
          "height": 87
        }
      },
      "source": [
        "a=input(\"enter the character\")\n",
        "c=0\n",
        "c1=0\n",
        "c2=0\n",
        "for i in a:\n",
        "  if i.isalpha():\n",
        "    if i=='a' or i=='e' or i=='i' or i=='o' or i=='u':\n",
        "      c=c+1\n",
        "    else:\n",
        "     c1=c1+1\n",
        "  else :\n",
        "    c2=c2+1\n",
        "print(c)\n",
        "print(c1)\n",
        "print(c2)\n"
      ],
      "execution_count": 0,
      "outputs": [
        {
          "output_type": "stream",
          "text": [
            "enter the charactervarun@#\n",
            "2\n",
            "3\n",
            "2\n"
          ],
          "name": "stdout"
        }
      ]
    },
    {
      "cell_type": "code",
      "metadata": {
        "id": "7iq4LNVE_BbJ",
        "colab_type": "code",
        "outputId": "2014e463-7d44-4160-e394-8ede6090e2b5",
        "colab": {
          "base_uri": "https://localhost:8080/",
          "height": 52
        }
      },
      "source": [
        "a=input(\"enter the v\")\n",
        "c=0\n",
        "p=0\n",
        "for i in a:\n",
        "  if i=='a' and c==0:\n",
        "    c=1\n",
        "  elif i=='a' and c==1:\n",
        "    c=0\n",
        "    p=p+1\n",
        "  else:\n",
        "    c=0\n",
        "print(p)"
      ],
      "execution_count": 0,
      "outputs": [
        {
          "output_type": "stream",
          "text": [
            "enter the vabaaabcaa\n",
            "2\n"
          ],
          "name": "stdout"
        }
      ]
    },
    {
      "cell_type": "code",
      "metadata": {
        "id": "HkkbL3o4F9bt",
        "colab_type": "code",
        "outputId": "07c47152-714d-49ef-b4a7-c91579d7beb9",
        "colab": {
          "base_uri": "https://localhost:8080/",
          "height": 52
        }
      },
      "source": [
        "a=input(\"enter the a\")\n",
        "c=0\n",
        "for i in a:\n",
        "  if(i=='('):\n",
        "    c=c+1\n",
        "print(c)"
      ],
      "execution_count": 0,
      "outputs": [
        {
          "output_type": "stream",
          "text": [
            "enter the a((((()()()))))()\n",
            "8\n"
          ],
          "name": "stdout"
        }
      ]
    },
    {
      "cell_type": "code",
      "metadata": {
        "id": "Du8U47kKG2Iq",
        "colab_type": "code",
        "outputId": "bf95b1f0-1158-46ff-a4ac-2e0aa6ac99b4",
        "colab": {
          "base_uri": "https://localhost:8080/",
          "height": 69
        }
      },
      "source": [
        "a=int(input(\"enter the range\"))\n",
        "b=int(input(\"enterb the r\"))\n",
        "c=0\n",
        "for i in range (a,b+1):\n",
        "  b=str(i)\n",
        "  if b==b[::-1]:\n",
        "    c=c+1\n",
        "print(c)\n",
        "\n",
        "\n",
        "  "
      ],
      "execution_count": 0,
      "outputs": [
        {
          "output_type": "stream",
          "text": [
            "enter the range1\n",
            "enterb the r100\n",
            "18\n"
          ],
          "name": "stdout"
        }
      ]
    },
    {
      "cell_type": "code",
      "metadata": {
        "id": "_sm0Wd2n5Jxz",
        "colab_type": "code",
        "outputId": "c03a7e4b-2f32-4ade-8aab-90572fec76b9",
        "colab": {
          "base_uri": "https://localhost:8080/",
          "height": 52
        }
      },
      "source": [
        "a=(input(\"enter the value\"))\n",
        "if a==a[::-1]:\n",
        "  print(\"the pallindrome no is\",a)\n",
        "else:\n",
        "  b=a[::-1]\n",
        "  c=int(a)\n",
        "  d=int(b)\n",
        "  e=c+d\n",
        "  print(e) \n"
      ],
      "execution_count": 0,
      "outputs": [
        {
          "output_type": "stream",
          "text": [
            "enter the value145\n",
            "686\n"
          ],
          "name": "stdout"
        }
      ]
    },
    {
      "cell_type": "code",
      "metadata": {
        "id": "htnqa7Je7_vv",
        "colab_type": "code",
        "outputId": "9153b0df-0056-4e94-8193-4e7ff664e297",
        "colab": {
          "base_uri": "https://localhost:8080/",
          "height": 52
        }
      },
      "source": [
        "s=input(\"enter the value\")\n",
        "c=str()\n",
        "for i in s:\n",
        "  if i=='a' or i=='e' or i=='i' or i=='o' or i=='u':\n",
        "    c=c+chr(ord(i)+1)\n",
        "  else:\n",
        "    t=ord(i)\n",
        "    while chr(t) not in 'aeiou':\n",
        "      t=t+1\n",
        "    c=c+chr(t)\n",
        "print(c)\n"
      ],
      "execution_count": 4,
      "outputs": [
        {
          "output_type": "stream",
          "text": [
            "enter the valueorange\n",
            "puboif\n"
          ],
          "name": "stdout"
        }
      ]
    },
    {
      "cell_type": "code",
      "metadata": {
        "id": "rvkN8ncvMEyn",
        "colab_type": "code",
        "colab": {
          "base_uri": "https://localhost:8080/",
          "height": 52
        },
        "outputId": "3c9b7440-a6cc-42dc-f711-0a936c8d97b5"
      },
      "source": [
        "a=input(\"enter the str\")\n",
        "sum=0\n",
        "for i in a:\n",
        "  if (i.isdigit()):\n",
        "    sum=sum+int(i)\n",
        "print(\"sum\",sum)"
      ],
      "execution_count": 6,
      "outputs": [
        {
          "output_type": "stream",
          "text": [
            "enter the strappli123cation456\n",
            "sum 21\n"
          ],
          "name": "stdout"
        }
      ]
    },
    {
      "cell_type": "code",
      "metadata": {
        "id": "EDTz4VDJM0Co",
        "colab_type": "code",
        "colab": {
          "base_uri": "https://localhost:8080/",
          "height": 52
        },
        "outputId": "274885ce-4d7f-4b7e-979b-a8fe918ee4cf"
      },
      "source": [
        "f=float(input(\"enter the value\"))\n",
        "if f>1.0 or f<0.0:\n",
        "  print(\"error\")\n",
        "elif f>=0.9:\n",
        "  print('A')\n",
        "elif f>=0.8:\n",
        "  print('B')\n",
        "elif f>=0.7:\n",
        "  print('C')\n",
        "elif f>=0.6:\n",
        "  print('D')\n",
        "else:\n",
        "  print('F')"
      ],
      "execution_count": 7,
      "outputs": [
        {
          "output_type": "stream",
          "text": [
            "enter the value0.75\n",
            "C\n"
          ],
          "name": "stdout"
        }
      ]
    },
    {
      "cell_type": "code",
      "metadata": {
        "id": "z3kBD7JvNsOg",
        "colab_type": "code",
        "colab": {
          "base_uri": "https://localhost:8080/",
          "height": 815
        },
        "outputId": "844e7228-ea7e-401a-faa5-2d914df7743c"
      },
      "source": [
        "for i in range(1,51):\n",
        "  if i%3==0 and i%5==0:\n",
        "    print('FlizzBuzz\\n',i)\n",
        "  elif i%3==0:\n",
        "    print('Flizz\\n',i)\n",
        "  elif i%5==0:\n",
        "    print('buzz\\n',i)\n"
      ],
      "execution_count": 13,
      "outputs": [
        {
          "output_type": "stream",
          "text": [
            "Flizz\n",
            " 3\n",
            "buzz\n",
            " 5\n",
            "Flizz\n",
            " 6\n",
            "Flizz\n",
            " 9\n",
            "buzz\n",
            " 10\n",
            "Flizz\n",
            " 12\n",
            "FlizzBuzz\n",
            " 15\n",
            "Flizz\n",
            " 18\n",
            "buzz\n",
            " 20\n",
            "Flizz\n",
            " 21\n",
            "Flizz\n",
            " 24\n",
            "buzz\n",
            " 25\n",
            "Flizz\n",
            " 27\n",
            "FlizzBuzz\n",
            " 30\n",
            "Flizz\n",
            " 33\n",
            "buzz\n",
            " 35\n",
            "Flizz\n",
            " 36\n",
            "Flizz\n",
            " 39\n",
            "buzz\n",
            " 40\n",
            "Flizz\n",
            " 42\n",
            "FlizzBuzz\n",
            " 45\n",
            "Flizz\n",
            " 48\n",
            "buzz\n",
            " 50\n"
          ],
          "name": "stdout"
        }
      ]
    },
    {
      "cell_type": "code",
      "metadata": {
        "id": "XeVUoFyY5Jup",
        "colab_type": "code",
        "colab": {
          "base_uri": "https://localhost:8080/",
          "height": 87
        },
        "outputId": "4362c2cd-256b-432a-dcde-a3bfddd48f31"
      },
      "source": [
        "a=input(\"enter the 1st no\")\n",
        "b=input(\"enter the 2nd no\")\n",
        "c=input(\"enter the 3rd no\")\n",
        "if a>b:\n",
        "  if a<c:\n",
        "    median=a\n",
        "  elif b>c:\n",
        "    median=b\n",
        "  else:\n",
        "    median=c\n",
        "else:\n",
        "  if a>c:\n",
        "    median=a\n",
        "  elif b<c:\n",
        "    median=b\n",
        "  else:\n",
        "    median=c\n",
        "print(\"the median is \",median)"
      ],
      "execution_count": 14,
      "outputs": [
        {
          "output_type": "stream",
          "text": [
            "enter the 1st no26\n",
            "enter the 2nd no15\n",
            "enter the 3rd no29\n",
            "the median is  26\n"
          ],
          "name": "stdout"
        }
      ]
    }
  ]
}